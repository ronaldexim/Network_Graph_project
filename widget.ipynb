{
 "cells": [
  {
   "cell_type": "code",
   "execution_count": null,
   "metadata": {},
   "outputs": [],
   "source": [
    "import pandas as pd\n",
    "import numpy as np\n",
    "import networkx as nx\n",
    "import matplotlib.pyplot as plt\n",
    "from ipywidgets import interact, Select, Dropdown\n",
    "from IPython.display import display\n",
    "from IPython.display import Image"
   ]
  },
  {
   "cell_type": "markdown",
   "metadata": {},
   "source": [
    "![chapter_network.png](chapter_network.png)"
   ]
  },
  {
   "cell_type": "code",
   "execution_count": null,
   "metadata": {},
   "outputs": [],
   "source": [
    "df= pd.read_csv('datasets\\dataset.csv')\n",
    "df=df.sort_values(by=['user_id','date_created'])\n",
    "df['source'] = df['book'] + \"_\" + df['chapter'].str.strip()\n",
    "df['target'] = df['source'].shift(-1)\n",
    "df['from'] = df['source'].shift(1)\n",
    "df['user_next'] = df['user_id'].shift(-1)\n",
    "df['user_prev'] = df['user_id'].shift(1)\n",
    "df.loc[df['user_id'] != df['user_next'], 'target'] = 'last'\n",
    "df.loc[df['user_id'] != df['user_prev'], 'from'] = 'first'\n",
    "\n",
    "df['same'] = df['source'] == df['target']\n",
    "df['pair'] = df['user_id'].astype(str) + \"#\" + df['source'] + \"#\" + df['target']\n",
    "df.drop_duplicates(subset=['pair'], keep='first', inplace=True)\n",
    "df.drop(labels=['pair', 'user_next', 'user_prev'], axis='columns', inplace=True)\n",
    "df = df[df['target'] != 'last']\n",
    "G=nx.from_pandas_edgelist(df, 'source', 'target', create_using=nx.DiGraph)\n",
    "out=nx.out_degree_centrality(G)\n",
    "nx.set_node_attributes(G, out, 'out-degree')\n",
    "bb = nx.betweenness_centrality(G)\n",
    "nx.set_node_attributes(G, bb, 'betweenness')\n",
    "eigen= nx.eigenvector_centrality(G)\n",
    "nx.set_node_attributes(G, eigen, 'eigen')\n",
    "data_list=list(G.nodes(data=True))\n",
    "data={}\n",
    "data['chapter']=[x[0] for x in data_list]\n",
    "data['out-degree'] = [x[1]['out-degree'] for x in data_list]\n",
    "data['eigen'] = [x[1]['eigen'] for x in data_list]\n",
    "data['betweenness'] = [x[1]['betweenness'] for x in data_list]\n",
    "df1 = pd.DataFrame(data)"
   ]
  },
  {
   "cell_type": "code",
   "execution_count": null,
   "metadata": {},
   "outputs": [],
   "source": [
    "def view(book='', chapter=''):\n",
    "    if chapter==None:\n",
    "        return None\n",
    "    source = book + \"_\" + chapter.strip()\n",
    "    row1=[n for n in G[source]]\n",
    "    df2= pd.DataFrame(row1)\n",
    "    df3=df2.set_index(0).join(df1.set_index('chapter'))\n",
    "    df3=df3.sort_values(by=['eigen'],ascending=False)\n",
    "    df3=df3.rename_axis('book')\n",
    "    return df3\n",
    "\n",
    "books=sorted(df.book.unique().tolist())\n",
    "w = Select(options=books)\n",
    "c = Select()\n",
    "\n",
    "def update(*args):\n",
    "    chapters = sorted(df[df.book==w.value].chapter.str.strip().unique().tolist())\n",
    "    c.options = chapters\n",
    "\n",
    "w.observe(update)\n",
    "\n",
    "v = interact(view, book=w, chapter=c)\n",
    "display(v);"
   ]
  },
  {
   "cell_type": "code",
   "execution_count": null,
   "metadata": {},
   "outputs": [],
   "source": [
    "# using the Voila button when uncommenting the next cell causes an endless loop   \n",
    "# to end it you need to turn off conda"
   ]
  },
  {
   "cell_type": "code",
   "execution_count": null,
   "metadata": {},
   "outputs": [],
   "source": [
    "#!voila widget.ipynb --enable_nbextensions=True"
   ]
  }
 ],
 "metadata": {
  "kernelspec": {
   "display_name": "Python 3",
   "language": "python",
   "name": "python3"
  },
  "language_info": {
   "codemirror_mode": {
    "name": "ipython",
    "version": 3
   },
   "file_extension": ".py",
   "mimetype": "text/x-python",
   "name": "python",
   "nbconvert_exporter": "python",
   "pygments_lexer": "ipython3",
   "version": "3.8.12"
  }
 },
 "nbformat": 4,
 "nbformat_minor": 4
}
